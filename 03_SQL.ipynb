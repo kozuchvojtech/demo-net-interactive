{
 "cells": [
  {
   "cell_type": "markdown",
   "metadata": {},
   "source": [
    "# .NET Interactive introduction - SQL"
   ]
  },
  {
   "cell_type": "code",
   "execution_count": null,
   "metadata": {
    "dotnet_interactive": {
     "language": "csharp"
    },
    "vscode": {
     "languageId": "dotnet-interactive.csharp"
    }
   },
   "outputs": [
    {
     "data": {
      "text/html": [
       "<div><div></div><div></div><div><strong>Installed Packages</strong><ul><li><span>Microsoft.DotNet.Interactive.SqlServer, 1.0.0-beta.22175.2</span></li></ul></div></div>"
      ]
     },
     "metadata": {},
     "output_type": "display_data"
    },
    {
     "data": {
      "text/markdown": [
       "Loading extensions from `Microsoft.DotNet.Interactive.SqlServer.dll`"
      ]
     },
     "metadata": {},
     "output_type": "display_data"
    },
    {
     "data": {
      "text/html": [
       "<details><summary>Query Microsoft SQL Server databases.</summary>\r\n",
       "    <p>This extension adds support for connecting to Microsoft SQL Server databases using the <code>#!connect mssql</code> magic command. For more information, run a cell using the <code>#!sql</code> magic command.</p>\r\n",
       "    </details>"
      ]
     },
     "metadata": {},
     "output_type": "display_data"
    }
   ],
   "source": [
    "#r \"nuget:Microsoft.DotNet.Interactive.SqlServer,*-*\""
   ]
  },
  {
   "cell_type": "code",
   "execution_count": null,
   "metadata": {
    "dotnet_interactive": {
     "language": "csharp"
    },
    "vscode": {
     "languageId": "dotnet-interactive.csharp"
    }
   },
   "outputs": [
    {
     "data": {
      "text/plain": [
       "Kernel added: #!sql-adventureWorks"
      ]
     },
     "metadata": {},
     "output_type": "display_data"
    }
   ],
   "source": [
    "#!connect mssql --kernel-name adventureWorks \"{ConnectionString}\""
   ]
  },
  {
   "cell_type": "code",
   "execution_count": null,
   "metadata": {
    "dotnet_interactive": {
     "language": "csharp"
    },
    "vscode": {
     "languageId": "dotnet-interactive.csharp"
    }
   },
   "outputs": [],
   "source": [
    "var city = await GetInputAsync(\"Enter city name: \");"
   ]
  },
  {
   "cell_type": "code",
   "execution_count": null,
   "metadata": {
    "dotnet_interactive": {
     "language": "sql"
    },
    "vscode": {
     "languageId": "dotnet-interactive.sql"
    }
   },
   "outputs": [
    {
     "data": {
      "text/plain": [
       "Adding shared variable declaration statement : DECLARE @city NVarChar(7) = N'Toronto';"
      ]
     },
     "metadata": {},
     "output_type": "display_data"
    },
    {
     "data": {
      "text/plain": [
       "(24 rows affected)"
      ]
     },
     "metadata": {},
     "output_type": "display_data"
    },
    {
     "data": {
      "text/csv": [
       "AddressID,AddressLine1,AddressLine2,City,StateProvince,CountryRegion,PostalCode,rowguid,ModifiedDate\n",
       "446,52560 Free Street,NULL,Toronto,Ontario,Canada,M4B 1V7,801a1dfc-5125-486b-aa84-ccbd2ec57ca4,2005-08-01T00:00:00.0000000\n",
       "447,22580 Free Street,NULL,Toronto,Ontario,Canada,M4B 1V7,88cee379-dbb8-433b-b84e-a35e09435500,2006-08-01T00:00:00.0000000\n",
       "448,2575 Bloor Street East,NULL,Toronto,Ontario,Canada,M4B 1V6,2df6d0ad-0926-4f34-a450-9b1083150cbf,2007-08-01T00:00:00.0000000\n",
       "452,55 Lakeshore Blvd East,NULL,Toronto,Ontario,Canada,M4B 1V6,a358652f-0e00-49e6-b6b0-de1099c43506,2005-09-01T00:00:00.0000000\n",
       "454,3255 Front Street West,NULL,Toronto,Ontario,Canada,M4B 1V6,ef4dc57d-8b8b-4074-b5f0-acbef65dbec1,2007-08-01T00:00:00.0000000\n",
       "461,2560 Bay Street,NULL,Toronto,Ontario,Canada,M4B 1V7,726819a8-1b02-4efd-aeb9-3fd801d9f153,2006-08-01T00:00:00.0000000\n",
       "462,630 University Avenue,NULL,Toronto,Ontario,Canada,M4B 1V7,27d5bdad-647d-4a56-859a-bc6a82af7dcd,2005-08-01T00:00:00.0000000\n",
       "463,992 St Clair Ave East,NULL,Toronto,Ontario,Canada,M4B 1V7,d6ed51fa-6dd1-460c-99e0-64ba90f035ae,2005-09-01T00:00:00.0000000\n",
       "470,2511 Baker Road,NULL,Toronto,Ontario,Canada,M4B 1V7,6e934d97-69b9-4fcf-9e4e-56bf94e52986,2005-09-01T00:00:00.0000000\n",
       "476,258 King Street East,NULL,Toronto,Ontario,Canada,M4B 1V7,90c770a5-a474-43d1-9a67-0f5de336f9dc,2005-08-01T00:00:00.0000000\n",
       "477,6th Floor Ferguson Block,NULL,Toronto,Ontario,Canada,M4B 1V7,39f3b067-2263-4591-abf9-d5210da4f783,2005-08-01T00:00:00.0000000\n",
       "478,2545 King Street West,NULL,Toronto,Ontario,Canada,M4B 1V7,2817a0b7-8985-4527-bb7b-b75f55f4d8de,2005-08-01T00:00:00.0000000\n",
       "480,25 First Canadian Place,NULL,Toronto,Ontario,Canada,M4B 1V5,07a009b2-1421-4597-ab85-22bce3c82b2c,2005-08-01T00:00:00.0000000\n",
       "482,2500 University Avenue,NULL,Toronto,Ontario,Canada,M4B 1V5,197a1735-e89e-4f15-a5f7-feb98b369094,2005-07-01T00:00:00.0000000\n",
       "489,9960 King Street E.,NULL,Toronto,Ontario,Canada,M4B 1V5,eb632e56-4299-4714-9e91-224319bdcb62,2007-08-01T00:00:00.0000000\n",
       "517,2573 Dufferin Street,NULL,Toronto,Ontario,Canada,M4B 1V5,97605c5c-8309-44f2-9a98-c5a5709497ff,2005-07-01T00:00:00.0000000\n",
       "537,No. 25800-130 King Street West,NULL,Toronto,Ontario,Canada,M4B 1V5,c2bcdaec-366c-489c-bf43-8cc2881179f3,2005-09-01T00:00:00.0000000\n",
       "538,25 Danger Street West,Floor 7,Toronto,Ontario,Canada,M4B 1V5,10b2404c-f0af-409c-af5d-0218beb03d0d,2007-08-01T00:00:00.0000000\n",
       "539,\"6th Floor, 25st Canadian Place\",NULL,Toronto,Ontario,Canada,M4B 1V5,d51784c0-cc77-48c2-8fa6-75405f3e35b9,2005-08-01T00:00:00.0000000\n",
       "547,7000 Victoria Park Avenue,NULL,Toronto,Ontario,Canada,M4B 1V4,28125ec3-fdc2-45d8-93b3-cd7db2113424,2007-09-01T00:00:00.0000000\n",
       "548,63 Free St.,NULL,Toronto,Ontario,Canada,M4B 1V4,5649c5d8-1798-4622-95bf-dc7e581284a0,2005-09-01T00:00:00.0000000\n",
       "549,609 Evans Avenue,NULL,Toronto,Ontario,Canada,M4B 1V4,dcf9c9b5-a7b6-4383-9480-1f84130b5f8b,2006-09-01T00:00:00.0000000\n",
       "550,2520 Flanders Road,NULL,Toronto,Ontario,Canada,M4B 1V4,a1d478e6-76da-445f-a924-0b5dee3c7cbb,2006-08-01T00:00:00.0000000\n",
       "555,\"9950 Ferrand Drive, 9th Floor\",NULL,Toronto,Ontario,Canada,M4B 1V4,32890831-931e-44ad-801b-41b1ad862eca,2005-09-01T00:00:00.0000000\n"
      ],
      "text/html": [
       "<table><thead><tr><td><span>AddressID</span></td><td><span>AddressLine1</span></td><td><span>AddressLine2</span></td><td><span>City</span></td><td><span>StateProvince</span></td><td><span>CountryRegion</span></td><td><span>PostalCode</span></td><td><span>rowguid</span></td><td><span>ModifiedDate</span></td></tr></thead><tbody><tr><td><div class=\"dni-plaintext\">446</div></td><td>52560 Free Street</td><td>NULL</td><td>Toronto</td><td>Ontario</td><td>Canada</td><td>M4B 1V7</td><td><div class=\"dni-plaintext\">801a1dfc-5125-486b-aa84-ccbd2ec57ca4</div></td><td><span>2005-08-01 00:00:00Z</span></td></tr><tr><td><div class=\"dni-plaintext\">447</div></td><td>22580 Free Street</td><td>NULL</td><td>Toronto</td><td>Ontario</td><td>Canada</td><td>M4B 1V7</td><td><div class=\"dni-plaintext\">88cee379-dbb8-433b-b84e-a35e09435500</div></td><td><span>2006-08-01 00:00:00Z</span></td></tr><tr><td><div class=\"dni-plaintext\">448</div></td><td>2575 Bloor Street East</td><td>NULL</td><td>Toronto</td><td>Ontario</td><td>Canada</td><td>M4B 1V6</td><td><div class=\"dni-plaintext\">2df6d0ad-0926-4f34-a450-9b1083150cbf</div></td><td><span>2007-08-01 00:00:00Z</span></td></tr><tr><td><div class=\"dni-plaintext\">452</div></td><td>55 Lakeshore Blvd East</td><td>NULL</td><td>Toronto</td><td>Ontario</td><td>Canada</td><td>M4B 1V6</td><td><div class=\"dni-plaintext\">a358652f-0e00-49e6-b6b0-de1099c43506</div></td><td><span>2005-09-01 00:00:00Z</span></td></tr><tr><td><div class=\"dni-plaintext\">454</div></td><td>3255 Front Street West</td><td>NULL</td><td>Toronto</td><td>Ontario</td><td>Canada</td><td>M4B 1V6</td><td><div class=\"dni-plaintext\">ef4dc57d-8b8b-4074-b5f0-acbef65dbec1</div></td><td><span>2007-08-01 00:00:00Z</span></td></tr><tr><td><div class=\"dni-plaintext\">461</div></td><td>2560 Bay Street</td><td>NULL</td><td>Toronto</td><td>Ontario</td><td>Canada</td><td>M4B 1V7</td><td><div class=\"dni-plaintext\">726819a8-1b02-4efd-aeb9-3fd801d9f153</div></td><td><span>2006-08-01 00:00:00Z</span></td></tr><tr><td><div class=\"dni-plaintext\">462</div></td><td>630 University Avenue</td><td>NULL</td><td>Toronto</td><td>Ontario</td><td>Canada</td><td>M4B 1V7</td><td><div class=\"dni-plaintext\">27d5bdad-647d-4a56-859a-bc6a82af7dcd</div></td><td><span>2005-08-01 00:00:00Z</span></td></tr><tr><td><div class=\"dni-plaintext\">463</div></td><td>992 St Clair Ave East</td><td>NULL</td><td>Toronto</td><td>Ontario</td><td>Canada</td><td>M4B 1V7</td><td><div class=\"dni-plaintext\">d6ed51fa-6dd1-460c-99e0-64ba90f035ae</div></td><td><span>2005-09-01 00:00:00Z</span></td></tr><tr><td><div class=\"dni-plaintext\">470</div></td><td>2511 Baker Road</td><td>NULL</td><td>Toronto</td><td>Ontario</td><td>Canada</td><td>M4B 1V7</td><td><div class=\"dni-plaintext\">6e934d97-69b9-4fcf-9e4e-56bf94e52986</div></td><td><span>2005-09-01 00:00:00Z</span></td></tr><tr><td><div class=\"dni-plaintext\">476</div></td><td>258 King Street East</td><td>NULL</td><td>Toronto</td><td>Ontario</td><td>Canada</td><td>M4B 1V7</td><td><div class=\"dni-plaintext\">90c770a5-a474-43d1-9a67-0f5de336f9dc</div></td><td><span>2005-08-01 00:00:00Z</span></td></tr><tr><td><div class=\"dni-plaintext\">477</div></td><td>6th Floor Ferguson Block</td><td>NULL</td><td>Toronto</td><td>Ontario</td><td>Canada</td><td>M4B 1V7</td><td><div class=\"dni-plaintext\">39f3b067-2263-4591-abf9-d5210da4f783</div></td><td><span>2005-08-01 00:00:00Z</span></td></tr><tr><td><div class=\"dni-plaintext\">478</div></td><td>2545 King Street West</td><td>NULL</td><td>Toronto</td><td>Ontario</td><td>Canada</td><td>M4B 1V7</td><td><div class=\"dni-plaintext\">2817a0b7-8985-4527-bb7b-b75f55f4d8de</div></td><td><span>2005-08-01 00:00:00Z</span></td></tr><tr><td><div class=\"dni-plaintext\">480</div></td><td>25 First Canadian Place</td><td>NULL</td><td>Toronto</td><td>Ontario</td><td>Canada</td><td>M4B 1V5</td><td><div class=\"dni-plaintext\">07a009b2-1421-4597-ab85-22bce3c82b2c</div></td><td><span>2005-08-01 00:00:00Z</span></td></tr><tr><td><div class=\"dni-plaintext\">482</div></td><td>2500 University Avenue</td><td>NULL</td><td>Toronto</td><td>Ontario</td><td>Canada</td><td>M4B 1V5</td><td><div class=\"dni-plaintext\">197a1735-e89e-4f15-a5f7-feb98b369094</div></td><td><span>2005-07-01 00:00:00Z</span></td></tr><tr><td><div class=\"dni-plaintext\">489</div></td><td>9960 King Street E.</td><td>NULL</td><td>Toronto</td><td>Ontario</td><td>Canada</td><td>M4B 1V5</td><td><div class=\"dni-plaintext\">eb632e56-4299-4714-9e91-224319bdcb62</div></td><td><span>2007-08-01 00:00:00Z</span></td></tr><tr><td><div class=\"dni-plaintext\">517</div></td><td>2573 Dufferin Street</td><td>NULL</td><td>Toronto</td><td>Ontario</td><td>Canada</td><td>M4B 1V5</td><td><div class=\"dni-plaintext\">97605c5c-8309-44f2-9a98-c5a5709497ff</div></td><td><span>2005-07-01 00:00:00Z</span></td></tr><tr><td><div class=\"dni-plaintext\">537</div></td><td>No. 25800-130 King Street West</td><td>NULL</td><td>Toronto</td><td>Ontario</td><td>Canada</td><td>M4B 1V5</td><td><div class=\"dni-plaintext\">c2bcdaec-366c-489c-bf43-8cc2881179f3</div></td><td><span>2005-09-01 00:00:00Z</span></td></tr><tr><td><div class=\"dni-plaintext\">538</div></td><td>25 Danger Street West</td><td>Floor 7</td><td>Toronto</td><td>Ontario</td><td>Canada</td><td>M4B 1V5</td><td><div class=\"dni-plaintext\">10b2404c-f0af-409c-af5d-0218beb03d0d</div></td><td><span>2007-08-01 00:00:00Z</span></td></tr><tr><td><div class=\"dni-plaintext\">539</div></td><td>6th Floor, 25st Canadian Place</td><td>NULL</td><td>Toronto</td><td>Ontario</td><td>Canada</td><td>M4B 1V5</td><td><div class=\"dni-plaintext\">d51784c0-cc77-48c2-8fa6-75405f3e35b9</div></td><td><span>2005-08-01 00:00:00Z</span></td></tr><tr><td><div class=\"dni-plaintext\">547</div></td><td>7000 Victoria Park Avenue</td><td>NULL</td><td>Toronto</td><td>Ontario</td><td>Canada</td><td>M4B 1V4</td><td><div class=\"dni-plaintext\">28125ec3-fdc2-45d8-93b3-cd7db2113424</div></td><td><span>2007-09-01 00:00:00Z</span></td></tr><tr><td><div class=\"dni-plaintext\">548</div></td><td>63 Free St.</td><td>NULL</td><td>Toronto</td><td>Ontario</td><td>Canada</td><td>M4B 1V4</td><td><div class=\"dni-plaintext\">5649c5d8-1798-4622-95bf-dc7e581284a0</div></td><td><span>2005-09-01 00:00:00Z</span></td></tr><tr><td><div class=\"dni-plaintext\">549</div></td><td>609 Evans Avenue</td><td>NULL</td><td>Toronto</td><td>Ontario</td><td>Canada</td><td>M4B 1V4</td><td><div class=\"dni-plaintext\">dcf9c9b5-a7b6-4383-9480-1f84130b5f8b</div></td><td><span>2006-09-01 00:00:00Z</span></td></tr><tr><td><div class=\"dni-plaintext\">550</div></td><td>2520 Flanders Road</td><td>NULL</td><td>Toronto</td><td>Ontario</td><td>Canada</td><td>M4B 1V4</td><td><div class=\"dni-plaintext\">a1d478e6-76da-445f-a924-0b5dee3c7cbb</div></td><td><span>2006-08-01 00:00:00Z</span></td></tr><tr><td><div class=\"dni-plaintext\">555</div></td><td>9950 Ferrand Drive, 9th Floor</td><td>NULL</td><td>Toronto</td><td>Ontario</td><td>Canada</td><td>M4B 1V4</td><td><div class=\"dni-plaintext\">32890831-931e-44ad-801b-41b1ad862eca</div></td><td><span>2005-09-01 00:00:00Z</span></td></tr></tbody></table>"
      ]
     },
     "metadata": {},
     "output_type": "display_data"
    }
   ],
   "source": [
    "#!sql-adventureWorks\n",
    "#!share --from csharp city \n",
    "\n",
    "select * from SalesLT.Address a where a.City = @city;"
   ]
  }
 ],
 "metadata": {
  "kernelspec": {
   "display_name": ".NET (C#)",
   "language": "C#",
   "name": ".net-csharp"
  },
  "language_info": {
   "file_extension": ".cs",
   "mimetype": "text/x-csharp",
   "name": "C#",
   "pygments_lexer": "csharp",
   "version": "9.0"
  },
  "orig_nbformat": 4
 },
 "nbformat": 4,
 "nbformat_minor": 2
}
