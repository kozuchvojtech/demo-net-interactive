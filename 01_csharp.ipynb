{
 "cells": [
  {
   "cell_type": "markdown",
   "metadata": {},
   "source": [
    "# .NET Interactive introduction"
   ]
  },
  {
   "cell_type": "code",
   "execution_count": null,
   "metadata": {
    "dotnet_interactive": {
     "language": "csharp"
    },
    "vscode": {
     "languageId": "dotnet-interactive.csharp"
    }
   },
   "outputs": [
    {
     "name": "stdout",
     "output_type": "stream",
     "text": [
      "Hello, World!\n"
     ]
    }
   ],
   "source": [
    "Console.WriteLine(\"Hello, World!\");"
   ]
  },
  {
   "cell_type": "code",
   "execution_count": null,
   "metadata": {
    "dotnet_interactive": {
     "language": "csharp"
    },
    "vscode": {
     "languageId": "dotnet-interactive.csharp"
    }
   },
   "outputs": [
    {
     "data": {
      "text/plain": [
       "Hello, World!"
      ]
     },
     "metadata": {},
     "output_type": "display_data"
    }
   ],
   "source": [
    "\"Hello, World!\""
   ]
  },
  {
   "cell_type": "code",
   "execution_count": null,
   "metadata": {
    "dotnet_interactive": {
     "language": "csharp"
    },
    "vscode": {
     "languageId": "dotnet-interactive.csharp"
    }
   },
   "outputs": [
    {
     "name": "stdout",
     "output_type": "stream",
     "text": [
      "1\n",
      "2\n",
      "3\n",
      "4\n",
      "5\n",
      "6\n",
      "7\n",
      "8\n",
      "9\n",
      "10\n"
     ]
    }
   ],
   "source": [
    "foreach(var i in Enumerable.Range(1, 10))\n",
    "{\n",
    "    Console.WriteLine(i);\n",
    "}"
   ]
  },
  {
   "cell_type": "markdown",
   "metadata": {},
   "source": [
    "## Data sources\n",
    "\n",
    "We can fetch data either using file or URL"
   ]
  },
  {
   "cell_type": "code",
   "execution_count": null,
   "metadata": {
    "dotnet_interactive": {
     "language": "csharp"
    },
    "vscode": {
     "languageId": "dotnet-interactive.csharp"
    }
   },
   "outputs": [],
   "source": [
    "#!value --from-file data.json --name peopleJson"
   ]
  },
  {
   "cell_type": "code",
   "execution_count": null,
   "metadata": {
    "dotnet_interactive": {
     "language": "csharp"
    },
    "vscode": {
     "languageId": "dotnet-interactive.csharp"
    }
   },
   "outputs": [
    {
     "data": {
      "text/plain": [
       "{\n",
       "    \"People\": [\n",
       "        {\n",
       "            \"Name\": \"John\",\n",
       "            \"Age\": \"20\"\n",
       "        },\n",
       "        {\n",
       "            \"Name\": \"Mark\",\n",
       "            \"Age\": \"30\"\n",
       "        },\n",
       "        {\n",
       "            \"Name\": \"Andrew\",\n",
       "            \"Age\": \"40\"\n",
       "        }\n",
       "    ]\n",
       "}"
      ]
     },
     "metadata": {},
     "output_type": "display_data"
    }
   ],
   "source": [
    "#!share --from value peopleJson\n",
    "peopleJson"
   ]
  },
  {
   "cell_type": "code",
   "execution_count": null,
   "metadata": {
    "dotnet_interactive": {
     "language": "csharp"
    },
    "vscode": {
     "languageId": "dotnet-interactive.csharp"
    }
   },
   "outputs": [],
   "source": [
    "#!value --from-url http://api.weatherapi.com/v1/current.json?key={ApiKey}&q=Prague&aqi=no --name weatherJson"
   ]
  },
  {
   "cell_type": "code",
   "execution_count": null,
   "metadata": {
    "dotnet_interactive": {
     "language": "csharp"
    },
    "vscode": {
     "languageId": "dotnet-interactive.csharp"
    }
   },
   "outputs": [
    {
     "data": {
      "text/plain": [
       "{\"location\":{\"name\":\"Prague\",\"region\":\"Hlavni mesto Praha\",\"country\":\"Czech Republic\",\"lat\":50.08,\"lon\":14.47,\"tz_id\":\"Europe/Prague\",\"localtime_epoch\":1651042295,\"localtime\":\"2022-04-27 8:51\"},\"current\":{\"temp_c\":8.0,\"condition\":{\"text\":\"Partly cloudy\",\"icon\":\"//cdn.weatherapi.com/weather/64x64/day/116.png\"},\"wind_kph\":6.8,\"humidity\":76,\"uv\":3.0}}"
      ]
     },
     "metadata": {},
     "output_type": "display_data"
    }
   ],
   "source": [
    "#!share --from value weatherJson\n",
    "weatherJson"
   ]
  },
  {
   "cell_type": "markdown",
   "metadata": {},
   "source": [
    "### Installs Newtonsoft.Json NuGet"
   ]
  },
  {
   "cell_type": "code",
   "execution_count": null,
   "metadata": {
    "dotnet_interactive": {
     "language": "csharp"
    },
    "vscode": {
     "languageId": "dotnet-interactive.csharp"
    }
   },
   "outputs": [
    {
     "data": {
      "text/html": [
       "<div><div></div><div></div><div><strong>Installed Packages</strong><ul><li><span>Newtonsoft.Json, 13.0.1</span></li></ul></div></div>"
      ]
     },
     "metadata": {},
     "output_type": "display_data"
    }
   ],
   "source": [
    "#r \"nuget:Newtonsoft.Json,*-*\""
   ]
  },
  {
   "cell_type": "markdown",
   "metadata": {},
   "source": [
    "### Specifies the contracts"
   ]
  },
  {
   "cell_type": "code",
   "execution_count": null,
   "metadata": {
    "dotnet_interactive": {
     "language": "csharp"
    },
    "vscode": {
     "languageId": "dotnet-interactive.csharp"
    }
   },
   "outputs": [],
   "source": [
    "using Newtonsoft.Json;\n",
    "\n",
    "class CurrentWeather \n",
    "{\n",
    "    [JsonProperty(\"temp_c\")]\n",
    "    public float TemperatureC { get; set; }\n",
    "    public int Humidity { get; set; }\n",
    "    public float UV { get; set; }\n",
    "    [JsonProperty(\"wind_kph\")]\n",
    "    public float WindKph { get; set; }\n",
    "    public CurrentWeatherCondition Condition { get; set; }\n",
    "\n",
    "    public string TemperatureCFormatted => $\"{TemperatureC}°C\";\n",
    "}\n",
    "\n",
    "class CurrentWeatherCondition \n",
    "{\n",
    "    public string Text { get; set; }\n",
    "    public string Icon { get; set; }\n",
    "}\n",
    "\n",
    "class Forecast \n",
    "{\n",
    "    public CurrentWeather Current { get; set; }\n",
    "}"
   ]
  },
  {
   "cell_type": "markdown",
   "metadata": {},
   "source": [
    "### Deserializes data fetched"
   ]
  },
  {
   "cell_type": "code",
   "execution_count": null,
   "metadata": {
    "dotnet_interactive": {
     "language": "csharp"
    },
    "vscode": {
     "languageId": "dotnet-interactive.csharp"
    }
   },
   "outputs": [],
   "source": [
    "using Newtonsoft.Json.Serialization;\n",
    "\n",
    "var jsonSerializerSettings = new JsonSerializerSettings\n",
    "{\n",
    "  ContractResolver = new CamelCasePropertyNamesContractResolver()\n",
    "};\n",
    "\n",
    "var deserializedForecast = JsonConvert.DeserializeObject<Forecast>(weatherJson, jsonSerializerSettings);"
   ]
  },
  {
   "cell_type": "code",
   "execution_count": null,
   "metadata": {
    "dotnet_interactive": {
     "language": "csharp"
    },
    "vscode": {
     "languageId": "dotnet-interactive.csharp"
    }
   },
   "outputs": [],
   "source": [
    "deserializedForecast.Current.Condition.Icon = \"https:\" + deserializedForecast.Current.Condition.Icon;"
   ]
  },
  {
   "cell_type": "markdown",
   "metadata": {},
   "source": [
    "### Visualises results obtained"
   ]
  },
  {
   "cell_type": "code",
   "execution_count": null,
   "metadata": {
    "dotnet_interactive": {
     "language": "html"
    },
    "vscode": {
     "languageId": "dotnet-interactive.html"
    }
   },
   "outputs": [
    {
     "data": {
      "text/html": [
       "<style>\n",
       "    #weather-icon {\n",
       "        width: 125px;\n",
       "        height: 125px;\n",
       "        margin-top: 20px;\n",
       "        margin-left: 25px;\n",
       "    }\n",
       "\n",
       "    /* multi-line list */\n",
       "    #weather-information {\n",
       "        list-style-type: none;\n",
       "    }\n",
       "\n",
       "    #weather-information li {\n",
       "        display: block;\n",
       "        padding: 10px;\n",
       "    }\n",
       "</style>\n",
       "\n",
       "<img id=\"weather-icon\"></img>\n",
       "<ul id=\"weather-information\"></ul>"
      ]
     },
     "metadata": {},
     "output_type": "display_data"
    }
   ],
   "source": [
    "<style>\n",
    "    #weather-icon {\n",
    "        width: 125px;\n",
    "        height: 125px;\n",
    "        margin-top: 20px;\n",
    "        margin-left: 25px;\n",
    "    }\n",
    "\n",
    "    /* multi-line list */\n",
    "    #weather-information {\n",
    "        list-style-type: none;\n",
    "    }\n",
    "\n",
    "    #weather-information li {\n",
    "        display: block;\n",
    "        padding: 10px;\n",
    "    }\n",
    "</style>\n",
    "\n",
    "<img id=\"weather-icon\"></img>\n",
    "<ul id=\"weather-information\"></ul>"
   ]
  },
  {
   "cell_type": "code",
   "execution_count": null,
   "metadata": {
    "dotnet_interactive": {
     "language": "javascript"
    },
    "vscode": {
     "languageId": "dotnet-interactive.javascript"
    }
   },
   "outputs": [],
   "source": [
    "#!share --from csharp deserializedForecast\n",
    "weather_icon = document.getElementById('weather-icon');\n",
    "weather_icon.src = deserializedForecast.Current.Condition.Icon;\n",
    "\n",
    "var information_list = document.getElementById('weather-information');\n",
    "\n",
    "var weather_text = document.createElement(\"li\");\n",
    "weather_text.appendChild(document.createTextNode(deserializedForecast.Current.Condition.Text));\n",
    "\n",
    "var weather_temperature = document.createElement(\"li\");\n",
    "weather_temperature.appendChild(document.createTextNode(deserializedForecast.Current.TemperatureCFormatted));\n",
    "\n",
    "information_list.appendChild(weather_text); \n",
    "information_list.appendChild(weather_temperature);"
   ]
  }
 ],
 "metadata": {
  "kernelspec": {
   "display_name": ".NET (C#)",
   "language": "C#",
   "name": ".net-csharp"
  },
  "language_info": {
   "file_extension": ".cs",
   "mimetype": "text/x-csharp",
   "name": "C#",
   "pygments_lexer": "csharp",
   "version": "9.0"
  },
  "orig_nbformat": 4
 },
 "nbformat": 4,
 "nbformat_minor": 2
}
